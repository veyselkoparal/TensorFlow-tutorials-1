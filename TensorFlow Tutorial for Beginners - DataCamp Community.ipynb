{
 "cells": [
  {
   "cell_type": "markdown",
   "metadata": {},
   "source": [
    "https://www.datacamp.com/community/tutorials/tensorflow-tutorial\n",
    "\n",
    "https://github.com/datacamp/datacamp-community-tutorials/blob/master/TensorFlow%20Tutorial%20For%20Beginners/TensorFlow%20Tutorial%20For%20Beginners.ipynb"
   ]
  },
  {
   "cell_type": "markdown",
   "metadata": {},
   "source": [
    "## TensorFlow\n",
    "\n",
    "TensorFlow is a machine learning framework used to design, build, and train deep learning models.\n",
    "\n",
    "Deep learning is a subfield of machine learning that is a set of algorithms inspired by the structure and function of the brain.\n",
    "\n",
    "You can use the TF library to do numerical computations with data flow graphs. In these graphs, nodes represent mathematical operations, while the edges represent the data\n"
   ]
  },
  {
   "cell_type": "markdown",
   "metadata": {},
   "source": [
    "### Tensors\n",
    "\n",
    "Tensors are implemented in TF as multidimensional data arrays. To understand tensors, its good to have some working knowledge of linear algebra and vector calculus.\n",
    "\n",
    "\n",
    "\n",
    "#### Plane Vectors\n",
    "Vectors are special types of matrices, whikch are rectangular arrays of numbers. Because vectors are ordered collections of numbers, they are often seen as column matrices: one column and a certain number of rows. You can also consider vectors as scalar magnitudes that have been given a direction. Linear vectors have a **length** and a **direction**.\n",
    "\n",
    "Plane vectors are the simplest setup of tensors. \n",
    "\n",
    "\n"
   ]
  },
  {
   "cell_type": "markdown",
   "metadata": {},
   "source": [
    "#### Tensors"
   ]
  },
  {
   "cell_type": "code",
   "execution_count": null,
   "metadata": {
    "collapsed": true
   },
   "outputs": [],
   "source": []
  },
  {
   "cell_type": "code",
   "execution_count": null,
   "metadata": {
    "collapsed": true
   },
   "outputs": [],
   "source": []
  },
  {
   "cell_type": "code",
   "execution_count": 4,
   "metadata": {},
   "outputs": [],
   "source": [
    "import os\n",
    "import random\n",
    "\n",
    "import tensorflow as tf\n",
    "import numpy as np\n",
    "import matplotlib.pyplot as plt"
   ]
  },
  {
   "cell_type": "code",
   "execution_count": null,
   "metadata": {
    "collapsed": true
   },
   "outputs": [],
   "source": []
  }
 ],
 "metadata": {
  "kernelspec": {
   "display_name": "Python 3",
   "language": "python",
   "name": "python3"
  },
  "language_info": {
   "codemirror_mode": {
    "name": "ipython",
    "version": 3
   },
   "file_extension": ".py",
   "mimetype": "text/x-python",
   "name": "python",
   "nbconvert_exporter": "python",
   "pygments_lexer": "ipython3",
   "version": "3.6.4"
  }
 },
 "nbformat": 4,
 "nbformat_minor": 2
}
